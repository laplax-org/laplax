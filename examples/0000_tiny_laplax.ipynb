{
 "cells": [
  {
   "cell_type": "markdown",
   "metadata": {},
   "source": [
    "# Tiny illustration of Laplace approximations"
   ]
  },
  {
   "cell_type": "markdown",
   "metadata": {},
   "source": [
    "This script is a super tiny illustration of a Laplace approximation - one where curvature approximation is tractable and can be easy visualised"
   ]
  },
  {
   "cell_type": "code",
   "execution_count": null,
   "metadata": {},
   "outputs": [],
   "source": [
    "import jax.numpy as jnp\n",
    "from jax.nn import relu\n",
    "from plotting import plot_figure_1\n",
    "\n",
    "from laplax import laplace\n",
    "\n",
    "# You need optimized parameters,\n",
    "best_params = {\"theta1\": jnp.array(1.6546547), \"theta2\": jnp.array(1.0420421)}\n",
    "model_fn = (  # a model function,\n",
    "    lambda input, params: relu(params[\"theta1\"] * input - 1) * params[\"theta2\"]\n",
    ")\n",
    "data = {  # and training data.\n",
    "    \"input\": jnp.array([1.0, -1.0]).reshape(2, 1),\n",
    "    \"target\": jnp.array([1.0, -1.0]).reshape(2, 1),\n",
    "}\n",
    "\n",
    "# Then apply laplax\n",
    "posterior_fn, _ = laplace(\n",
    "    model_fn,\n",
    "    best_params,\n",
    "    data,\n",
    "    loss_fn=\"mse\",\n",
    "    curv_type=\"full\",\n",
    ")\n",
    "curv = posterior_fn({\"prior_prec\": 0.2}).state[\"scale\"]\n",
    "\n",
    "# to get figure 1.\n",
    "plot_figure_1(model_fn, best_params, curv)"
   ]
  },
  {
   "cell_type": "code",
   "execution_count": null,
   "metadata": {},
   "outputs": [],
   "source": []
  }
 ],
 "metadata": {
  "language_info": {
   "name": "python"
  }
 },
 "nbformat": 4,
 "nbformat_minor": 2
}
